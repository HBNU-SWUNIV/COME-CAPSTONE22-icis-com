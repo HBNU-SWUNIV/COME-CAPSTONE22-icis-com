{
 "cells": [
  {
   "cell_type": "code",
   "execution_count": 2,
   "id": "4b8e4d3c",
   "metadata": {},
   "outputs": [],
   "source": [
    "import sys\n",
    "sys.path.append('../FL_Mnist')\n",
    "from fl_mnist_implementation_tutorial_utils import *"
   ]
  },
  {
   "cell_type": "code",
   "execution_count": null,
   "id": "923c329c",
   "metadata": {},
   "outputs": [],
   "source": [
    "# %cd ./FL_Mnist"
   ]
  },
  {
   "cell_type": "code",
   "execution_count": null,
   "id": "a9455822",
   "metadata": {},
   "outputs": [],
   "source": [
    "# import zipfile\n",
    "# zipfile.ZipFile('Mnist.zip').extractall()"
   ]
  },
  {
   "cell_type": "markdown",
   "id": "3353ebe1",
   "metadata": {},
   "source": [
    "# 패키지 가져오기"
   ]
  },
  {
   "cell_type": "code",
   "execution_count": 3,
   "id": "dd0412a6",
   "metadata": {},
   "outputs": [],
   "source": [
    "import numpy as np\n",
    "import random\n",
    "import cv2\n",
    "import os\n",
    "from imutils import paths\n",
    "from sklearn.model_selection import train_test_split\n",
    "from sklearn.preprocessing import LabelBinarizer\n",
    "from sklearn.model_selection import train_test_split\n",
    "from sklearn.utils import shuffle\n",
    "from sklearn.metrics import accuracy_score\n",
    "\n",
    "import tensorflow as tf\n",
    "from tensorflow.keras.models import Sequential\n",
    "from tensorflow.keras.layers import Conv2D\n",
    "from tensorflow.keras.layers import MaxPooling2D\n",
    "from tensorflow.keras.layers import Activation\n",
    "from tensorflow.keras.layers import Flatten\n",
    "from tensorflow.keras.layers import Dense\n",
    "from tensorflow.keras.optimizers import SGD\n",
    "from tensorflow.keras import backend as K\n",
    "\n",
    "from fl_mnist_implementation_tutorial_utils import *\n",
    "import matplotlib.pyplot as plt\n"
   ]
  },
  {
   "cell_type": "markdown",
   "id": "9e638407",
   "metadata": {},
   "source": [
    "# MNIST 데이터 세트 읽기 및 전처리"
   ]
  },
  {
   "cell_type": "code",
   "execution_count": 4,
   "id": "4fc481d1",
   "metadata": {},
   "outputs": [],
   "source": [
    "def load(paths, verbose=-1):\n",
    "    '''expects images for each class in seperate dir, \n",
    "    e.g all digits in 0 class in the directory named 0 '''\n",
    "    data = list()\n",
    "    labels = list()\n",
    "    # loop over the input images\n",
    "    for (i, imgpath) in enumerate(paths):\n",
    "        # load the image and extract the class labels\n",
    "        im_gray = cv2.imread(imgpath, cv2.IMREAD_GRAYSCALE)\n",
    "        image = np.array(im_gray).flatten()\n",
    "        label = imgpath.split(os.path.sep)[-2]\n",
    "        # scale the image to [0, 1] and add to list\n",
    "        data.append(image/255)\n",
    "        labels.append(label)\n",
    "        # show an update every `verbose` images\n",
    "        if verbose > 0 and i > 0 and (i + 1) % verbose == 0:\n",
    "            print(\"[INFO] processed {}/{}\".format(i + 1, len(paths)))\n",
    "    # return a tuple of the data and labels\n",
    "    return data, labels"
   ]
  },
  {
   "cell_type": "markdown",
   "id": "c514c995",
   "metadata": {},
   "source": [
    "# train test 분할 만들기"
   ]
  },
  {
   "cell_type": "code",
   "execution_count": 5,
   "id": "62a37a36",
   "metadata": {},
   "outputs": [
    {
     "name": "stdout",
     "output_type": "stream",
     "text": [
      "[INFO] processed 10000/42000\n",
      "[INFO] processed 20000/42000\n",
      "[INFO] processed 30000/42000\n",
      "[INFO] processed 40000/42000\n"
     ]
    }
   ],
   "source": [
    "#declear path to your mnist data folder\n",
    "img_path = '../FL_Mnist/Mnist'\n",
    "\n",
    "#get the path list using the path object\n",
    "image_paths = list(paths.list_images(img_path))\n",
    "\n",
    "#apply our function\n",
    "image_list, label_list = load(image_paths, verbose=10000)\n",
    "\n",
    "#binarize the labels\n",
    "lb = LabelBinarizer()\n",
    "label_list = lb.fit_transform(label_list)\n",
    "\n",
    "#split data into training and test set\n",
    "X_train, X_test, y_train, y_test = train_test_split(image_list, \n",
    "                                                    label_list, \n",
    "                                                    test_size=0.1, \n",
    "                                                    random_state=42)"
   ]
  },
  {
   "cell_type": "markdown",
   "id": "f0a0e0f3",
   "metadata": {},
   "source": [
    "# 클라이언트 -> 데이터 샤드"
   ]
  },
  {
   "cell_type": "code",
   "execution_count": 12,
   "id": "f3f00648",
   "metadata": {},
   "outputs": [],
   "source": [
    "def create_clients(image_list, label_list, num_clients=10, initial='clients'):\n",
    "    ''' return: a dictionary with keys clients' names and value as \n",
    "                data shards - tuple of images and label lists.\n",
    "        args: \n",
    "            image_list: a list of numpy arrays of training images\n",
    "            label_list:a list of binarized labels for each image\n",
    "            num_client: number of fedrated members (clients)\n",
    "            initials: the clients'name prefix, e.g, clients_1 \n",
    "            \n",
    "    '''\n",
    "\n",
    "    #create a list of client names\n",
    "    client_names = ['{}_{}'.format(initial, i+1) for i in range(num_clients)]\n",
    "\n",
    "    #randomize the data\n",
    "    data = list(zip(image_list, label_list))\n",
    "    random.shuffle(data)\n",
    "\n",
    "    #shard data and place at each client\n",
    "    size = len(data)//num_clients\n",
    "    shards = [data[i:i + size] for i in range(0, size*num_clients, size)]\n",
    "\n",
    "    #number of clients must equal number of shards\n",
    "    assert(len(shards) == len(client_names))\n",
    "\n",
    "    return {client_names[i] : shards[i] for i in range(len(client_names))} "
   ]
  },
  {
   "cell_type": "code",
   "execution_count": 13,
   "id": "67918cfd",
   "metadata": {},
   "outputs": [],
   "source": [
    "#create clients\n",
    "clients = create_clients(X_train, y_train, num_clients=2, initial='client')"
   ]
  },
  {
   "cell_type": "markdown",
   "id": "462f112a",
   "metadata": {},
   "source": [
    "# 클라이언트 및 테스트 데이터 처리 및 일괄 처리"
   ]
  },
  {
   "cell_type": "code",
   "execution_count": 14,
   "id": "92897027",
   "metadata": {},
   "outputs": [],
   "source": [
    "def batch_data(data_shard, bs=32):\n",
    "    '''Takes in a clients data shard and create a tfds object off it\n",
    "    args:\n",
    "        shard: a data, label constituting a client's data shard\n",
    "        bs:batch size\n",
    "    return:\n",
    "        tfds object'''\n",
    "    #seperate shard into data and labels lists\n",
    "    data, label = zip(*data_shard)\n",
    "    dataset = tf.data.Dataset.from_tensor_slices((list(data), list(label)))\n",
    "    return dataset.shuffle(len(label)).batch(bs)"
   ]
  },
  {
   "cell_type": "code",
   "execution_count": 15,
   "id": "2d2bc6a3",
   "metadata": {},
   "outputs": [
    {
     "name": "stdout",
     "output_type": "stream",
     "text": [
      "37800\n",
      "4200\n",
      "37800\n",
      "4200\n"
     ]
    }
   ],
   "source": [
    "print(len(X_train))\n",
    "print(len(X_test))\n",
    "print(len(y_train))\n",
    "print(len(y_test))"
   ]
  },
  {
   "cell_type": "code",
   "execution_count": 16,
   "id": "c5146c7b",
   "metadata": {},
   "outputs": [],
   "source": [
    "#process and batch the training data for each client\n",
    "clients_batched = dict()\n",
    "for (client_name, data) in clients.items():\n",
    "    clients_batched[client_name] = batch_data(data)\n",
    "    \n",
    "#process and batch the test set  \n",
    "test_batched = tf.data.Dataset.from_tensor_slices((X_test, y_test)).batch(len(y_test))"
   ]
  },
  {
   "cell_type": "markdown",
   "id": "21954b95",
   "metadata": {},
   "source": [
    "#  (Multi Layer Perceptron) 모델 생성"
   ]
  },
  {
   "cell_type": "code",
   "execution_count": 17,
   "id": "955a941e",
   "metadata": {},
   "outputs": [],
   "source": [
    "class SimpleMLP:\n",
    "    @staticmethod\n",
    "    def build(shape, classes):\n",
    "        model = Sequential()\n",
    "        model.add(Dense(200, input_shape=(shape,)))\n",
    "        model.add(Activation(\"relu\"))\n",
    "        model.add(Dense(200))\n",
    "        model.add(Activation(\"relu\"))\n",
    "        model.add(Dense(classes))\n",
    "        model.add(Activation(\"softmax\"))\n",
    "        return model"
   ]
  },
  {
   "cell_type": "code",
   "execution_count": 18,
   "id": "53b16d3f",
   "metadata": {},
   "outputs": [
    {
     "name": "stderr",
     "output_type": "stream",
     "text": [
      "c:\\Users\\User\\AppData\\Local\\Programs\\Python\\Python39\\lib\\site-packages\\keras\\optimizers\\optimizer_v2\\gradient_descent.py:111: UserWarning: The `lr` argument is deprecated, use `learning_rate` instead.\n",
      "  super().__init__(name, **kwargs)\n"
     ]
    }
   ],
   "source": [
    "lr = 0.01 \n",
    "comms_round = 20\n",
    "loss='categorical_crossentropy'\n",
    "metrics = ['accuracy']\n",
    "optimizer = SGD(lr=lr, \n",
    "                decay=lr / comms_round, \n",
    "                momentum=0.9\n",
    "               )"
   ]
  },
  {
   "cell_type": "markdown",
   "id": "cbc8d42c",
   "metadata": {},
   "source": [
    "# 모델 집계 (연동 평균)"
   ]
  },
  {
   "cell_type": "code",
   "execution_count": 22,
   "id": "92bdb058",
   "metadata": {},
   "outputs": [],
   "source": [
    "# 클라이언트 데이터의 스케일링 계수 \n",
    "def weight_scalling_factor(clients_trn_data, client_name):\n",
    "    client_names = list(clients_trn_data.keys())\n",
    "    #get the bs\n",
    "    bs = list(clients_trn_data[client_name])[0][0].shape[0]\n",
    "    #first calculate the total training data points across clinets\n",
    "    global_count = sum([tf.data.experimental.cardinality(clients_trn_data[client_name]).numpy() for client_name in client_names])*bs\n",
    "    # get the total number of data points held by a client\n",
    "    local_count = tf.data.experimental.cardinality(clients_trn_data[client_name]).numpy()*bs\n",
    "    \n",
    "\n",
    "    return local_count/global_count\n",
    "\n",
    "# 위에서 구한 스케일링 계수를 이용해 스케일된 weight 구하기\n",
    "def scale_model_weights(weight, scalar):\n",
    "    '''function for scaling a models weights'''\n",
    "    weight_final = []\n",
    "    steps = len(weight)\n",
    "    for i in range(steps):\n",
    "        weight_final.append(scalar * weight[i])\n",
    "    return weight_final\n",
    "\n",
    "\n",
    "# \n",
    "def sum_scaled_weights(scaled_weight_list):\n",
    "    '''Return the sum of the listed scaled weights. The is equivalent to scaled avg of the weights'''\n",
    "    avg_grad = list()\n",
    "    #get the average grad accross all client gradients\n",
    "    for grad_list_tuple in zip(*scaled_weight_list):\n",
    "        layer_mean = tf.math.reduce_sum(grad_list_tuple, axis=0)\n",
    "        avg_grad.append(layer_mean)\n",
    "        \n",
    "    return avg_grad\n",
    "\n",
    "\n",
    "def test_model(X_test, Y_test,  model, comm_round):\n",
    "    cce = tf.keras.losses.CategoricalCrossentropy(from_logits=True)\n",
    "    #logits = model.predict(X_test, batch_size=100)\n",
    "    logits = model.predict(X_test)\n",
    "    loss = cce(Y_test, logits)\n",
    "    acc = accuracy_score(tf.argmax(logits, axis=1), tf.argmax(Y_test, axis=1))\n",
    "    print('comm_round: {} | global_acc: {:.3%} | global_loss: {}'.format(comm_round, acc, loss))\n",
    "    return acc, loss"
   ]
  },
  {
   "cell_type": "markdown",
   "id": "012511dc",
   "metadata": {},
   "source": [
    "# 연합 모델 교육"
   ]
  },
  {
   "cell_type": "code",
   "execution_count": 23,
   "id": "1f660361",
   "metadata": {},
   "outputs": [],
   "source": [
    "from socket import *\n",
    "import pickle\n",
    "import numpy as np\n",
    "import time\n",
    "import struct"
   ]
  },
  {
   "cell_type": "code",
   "execution_count": 24,
   "id": "d19b0d9f",
   "metadata": {
    "scrolled": true
   },
   "outputs": [
    {
     "name": "stdout",
     "output_type": "stream",
     "text": [
      "132/132 [==============================] - 1s 4ms/step\n",
      "comm_round: 0 | global_acc: 91.524% | global_loss: 1.6109908819198608\n",
      "132/132 [==============================] - 0s 3ms/step\n",
      "comm_round: 1 | global_acc: 93.048% | global_loss: 1.57831609249115\n",
      "132/132 [==============================] - 0s 2ms/step\n",
      "comm_round: 2 | global_acc: 94.143% | global_loss: 1.5643599033355713\n",
      "132/132 [==============================] - 0s 3ms/step\n",
      "comm_round: 3 | global_acc: 94.595% | global_loss: 1.5536973476409912\n",
      "132/132 [==============================] - 0s 3ms/step\n",
      "comm_round: 4 | global_acc: 94.643% | global_loss: 1.547194242477417\n",
      "132/132 [==============================] - 0s 2ms/step\n",
      "comm_round: 5 | global_acc: 95.190% | global_loss: 1.5418903827667236\n",
      "132/132 [==============================] - 0s 3ms/step\n",
      "comm_round: 6 | global_acc: 95.500% | global_loss: 1.5376795530319214\n",
      "132/132 [==============================] - 0s 2ms/step\n",
      "comm_round: 7 | global_acc: 95.524% | global_loss: 1.5333377122879028\n",
      "132/132 [==============================] - 0s 2ms/step\n",
      "comm_round: 8 | global_acc: 95.714% | global_loss: 1.5315481424331665\n",
      "132/132 [==============================] - 0s 2ms/step\n",
      "comm_round: 9 | global_acc: 95.833% | global_loss: 1.5297425985336304\n",
      "132/132 [==============================] - 0s 2ms/step\n",
      "comm_round: 10 | global_acc: 95.929% | global_loss: 1.5282634496688843\n",
      "132/132 [==============================] - 1s 4ms/step\n",
      "comm_round: 11 | global_acc: 96.167% | global_loss: 1.5251041650772095\n",
      "132/132 [==============================] - 0s 2ms/step\n",
      "comm_round: 12 | global_acc: 96.238% | global_loss: 1.5240343809127808\n",
      "132/132 [==============================] - 0s 2ms/step\n",
      "comm_round: 13 | global_acc: 96.214% | global_loss: 1.5232855081558228\n",
      "132/132 [==============================] - 0s 2ms/step\n",
      "comm_round: 14 | global_acc: 96.190% | global_loss: 1.522107481956482\n",
      "132/132 [==============================] - 0s 2ms/step\n",
      "comm_round: 15 | global_acc: 96.429% | global_loss: 1.5203030109405518\n",
      "132/132 [==============================] - 0s 2ms/step\n",
      "comm_round: 16 | global_acc: 96.333% | global_loss: 1.5198118686676025\n",
      "132/132 [==============================] - 0s 3ms/step\n",
      "comm_round: 17 | global_acc: 96.548% | global_loss: 1.5191926956176758\n",
      "132/132 [==============================] - 0s 2ms/step\n",
      "comm_round: 18 | global_acc: 96.524% | global_loss: 1.5178403854370117\n",
      "132/132 [==============================] - 0s 3ms/step\n",
      "comm_round: 19 | global_acc: 96.476% | global_loss: 1.5176517963409424\n"
     ]
    }
   ],
   "source": [
    "#initialize global model\n",
    "smlp_global = SimpleMLP()\n",
    "global_model = smlp_global.build(784, 10)\n",
    "        \n",
    "#commence global training loop\n",
    "for comm_round in range(comms_round):\n",
    "            \n",
    "    # get the global model's weights - will serve as the initial weights for all local models\n",
    "    global_weights = global_model.get_weights()\n",
    "    \n",
    "    #initial list to collect local model weights after scalling\n",
    "    scaled_local_weight_list = list()\n",
    "\n",
    "    #randomize client data - using keys\n",
    "    client_names= list(clients_batched.keys())\n",
    "    random.shuffle(client_names)\n",
    "    \n",
    "    #loop through each client and create new local model\n",
    "    for client in client_names:\n",
    "        smlp_local = SimpleMLP()\n",
    "        local_model = smlp_local.build(784, 10)\n",
    "        local_model.compile(loss=loss, \n",
    "                      optimizer=optimizer, \n",
    "                      metrics=metrics)\n",
    "        \n",
    "        #set local model weight to the weight of the global model\n",
    "        local_model.set_weights(global_weights)\n",
    "        \n",
    "        #fit local model with client's data\n",
    "        local_model.fit(clients_batched[client], epochs=1, verbose=0)\n",
    "        \n",
    "        #scale the model weights and add to list\n",
    "        scaling_factor = weight_scalling_factor(clients_batched, client)\n",
    "        scaled_weights = scale_model_weights(local_model.get_weights(), scaling_factor)\n",
    "        scaled_local_weight_list.append(scaled_weights)\n",
    "        \n",
    "        #clear session to free memory after each communication round\n",
    "        K.clear_session()\n",
    "        \n",
    "    #to get the average over all the local model, we simply take the sum of the scaled weights\n",
    "    average_weights = sum_scaled_weights(scaled_local_weight_list)\n",
    "    \n",
    "    #update global model \n",
    "    global_model.set_weights(average_weights)\n",
    "\n",
    "    #test global model and print out metrics after each communications round\n",
    "    for(X_test, Y_test) in test_batched:\n",
    "        global_acc, global_loss = test_model(X_test, Y_test, global_model, comm_round)\n"
   ]
  },
  {
   "cell_type": "markdown",
   "id": "dfc30287",
   "metadata": {},
   "source": [
    "# SGD"
   ]
  },
  {
   "cell_type": "code",
   "execution_count": null,
   "id": "f88edfdf",
   "metadata": {},
   "outputs": [],
   "source": [
    "sgd_acc_list = []\n",
    "sgd_loss_list  = []"
   ]
  },
  {
   "cell_type": "code",
   "execution_count": null,
   "id": "72b7a0e0",
   "metadata": {},
   "outputs": [],
   "source": [
    "SGD_dataset = tf.data.Dataset.from_tensor_slices((X_train, y_train)).shuffle(len(y_train)).batch(32)\n",
    "smlp_SGD = SimpleMLP()\n",
    "SGD_model = smlp_SGD.build(784, 10) \n",
    "\n",
    "SGD_model.compile(loss=loss, \n",
    "              optimizer=optimizer, \n",
    "              metrics=metrics)\n",
    "\n",
    "# fit the SGD training data to model\n",
    "for comm_round in range(comms_round):\n",
    "    sgd_history = SGD_model.fit(SGD_dataset, epochs=1, verbose=0)\n",
    "\n",
    "    #test the SGD global model and print out metrics\n",
    "    for(X_test, Y_test) in test_batched:\n",
    "            SGD_acc, SGD_loss = test_model(X_test, Y_test, SGD_model, comm_round)"
   ]
  }
 ],
 "metadata": {
  "kernelspec": {
   "display_name": "Python 3.9.13 64-bit",
   "language": "python",
   "name": "python3"
  },
  "language_info": {
   "codemirror_mode": {
    "name": "ipython",
    "version": 3
   },
   "file_extension": ".py",
   "mimetype": "text/x-python",
   "name": "python",
   "nbconvert_exporter": "python",
   "pygments_lexer": "ipython3",
   "version": "3.9.13"
  },
  "vscode": {
   "interpreter": {
    "hash": "cf92aa13fedf815d5c8dd192b8d835913fde3e8bc926b2a0ad6cc74ef2ba3ca2"
   }
  }
 },
 "nbformat": 4,
 "nbformat_minor": 5
}
