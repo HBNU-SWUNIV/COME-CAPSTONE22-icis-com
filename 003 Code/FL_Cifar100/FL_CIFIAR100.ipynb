{
 "cells": [
  {
   "cell_type": "code",
   "execution_count": 17,
   "id": "c4252bc2",
   "metadata": {},
   "outputs": [],
   "source": [
    "import sys\n",
    "sys.path.append('./FL_Mnist')\n",
    "from fl_mnist_implementation_tutorial_utils import *"
   ]
  },
  {
   "cell_type": "code",
   "execution_count": 18,
   "id": "5911bfad",
   "metadata": {},
   "outputs": [],
   "source": [
    "# %cd ./FL_Mnist"
   ]
  },
  {
   "cell_type": "code",
   "execution_count": 19,
   "id": "65aec097",
   "metadata": {},
   "outputs": [],
   "source": [
    "# import zipfile\n",
    "# zipfile.ZipFile('Mnist.zip').extractall()"
   ]
  },
  {
   "cell_type": "markdown",
   "id": "c0331e5b",
   "metadata": {},
   "source": [
    "# 패키지 가져오기"
   ]
  },
  {
   "cell_type": "code",
   "execution_count": 4,
   "id": "b0268a9b",
   "metadata": {},
   "outputs": [],
   "source": [
    "import numpy as np\n",
    "import random\n",
    "import cv2\n",
    "import os\n",
    "from imutils import paths\n",
    "from sklearn.model_selection import train_test_split\n",
    "from sklearn.preprocessing import LabelBinarizer\n",
    "from sklearn.model_selection import train_test_split\n",
    "from sklearn.utils import shuffle\n",
    "from sklearn.metrics import accuracy_score\n",
    "\n",
    "import tensorflow as tf\n",
    "from tensorflow.keras.models import Sequential\n",
    "from tensorflow.keras.layers import Conv2D\n",
    "from tensorflow.keras.layers import MaxPooling2D\n",
    "from tensorflow.keras.layers import Activation\n",
    "from tensorflow.keras.layers import Flatten\n",
    "from tensorflow.keras.layers import Dense\n",
    "from tensorflow.keras.optimizers import SGD\n",
    "from tensorflow.keras import backend as K\n",
    "\n",
    "from fl_mnist_implementation_tutorial_utils import *"
   ]
  },
  {
   "cell_type": "markdown",
   "id": "44b9c107",
   "metadata": {},
   "source": [
    "# MNIST 데이터 세트 읽기 및 전처리"
   ]
  },
  {
   "cell_type": "code",
   "execution_count": 5,
   "id": "42fd5c54",
   "metadata": {},
   "outputs": [],
   "source": [
    "# def load(paths, verbose=-1):\n",
    "#     '''expects images for each class in seperate dir, \n",
    "#     e.g all digits in 0 class in the directory named 0 '''\n",
    "#     data = list()\n",
    "#     labels = list()\n",
    "#     # loop over the input images\n",
    "#     for (i, imgpath) in enumerate(paths):\n",
    "#         # load the image and extract the class labels\n",
    "#         im_gray = cv2.imread(imgpath, cv2.IMREAD_GRAYSCALE)\n",
    "#         image = np.array(im_gray).flatten()\n",
    "#         label = imgpath.split(os.path.sep)[-2]\n",
    "#         # scale the image to [0, 1] and add to list\n",
    "#         data.append(image/255)\n",
    "#         labels.append(label)\n",
    "#         # show an update every `verbose` images\n",
    "#         if verbose > 0 and i > 0 and (i + 1) % verbose == 0:\n",
    "#             print(\"[INFO] processed {}/{}\".format(i + 1, len(paths)))\n",
    "#     # return a tuple of the data and labels\n",
    "#     return data, labels"
   ]
  },
  {
   "cell_type": "markdown",
   "id": "50f68c13",
   "metadata": {},
   "source": [
    "# train test 분할 만들기"
   ]
  },
  {
   "cell_type": "code",
   "execution_count": 6,
   "id": "9a475b36",
   "metadata": {},
   "outputs": [],
   "source": [
    "# #declear path to your mnist data folder\n",
    "# img_path = '/app/FL_Mnist/Mnist'\n",
    "\n",
    "# #get the path list using the path object\n",
    "# image_paths = list(paths.list_images(img_path))\n",
    "\n",
    "# #apply our function\n",
    "# image_list, label_list = load(image_paths, verbose=10000)\n",
    "\n",
    "# #binarize the labels\n",
    "# lb = LabelBinarizer()\n",
    "# label_list = lb.fit_transform(label_list)\n",
    "\n",
    "# #split data into training and test set\n",
    "# X_train, X_test, y_train, y_test = train_test_split(image_list, \n",
    "#                                                     label_list, \n",
    "#                                                     test_size=0.1, \n",
    "#                                                     random_state=42)\n",
    "\n",
    "(X_train, y_train), (X_test, y_test) = tf.keras.datasets.cifar10.load_data()\n",
    "X_train, X_test = X_train/255, X_test/255"
   ]
  },
  {
   "cell_type": "markdown",
   "id": "bc121d46",
   "metadata": {},
   "source": [
    "# 클라이언트 -> 데이터 샤드"
   ]
  },
  {
   "cell_type": "code",
   "execution_count": 7,
   "id": "91df2a59",
   "metadata": {},
   "outputs": [],
   "source": [
    "def create_clients(image_list, label_list, num_clients=10, initial='clients'):\n",
    "    ''' return: a dictionary with keys clients' names and value as \n",
    "                data shards - tuple of images and label lists.\n",
    "        args: \n",
    "            image_list: a list of numpy arrays of training images\n",
    "            label_list:a list of binarized labels for each image\n",
    "            num_client: number of fedrated members (clients)\n",
    "            initials: the clients'name prefix, e.g, clients_1 \n",
    "            \n",
    "    '''\n",
    "\n",
    "    #create a list of client names\n",
    "    client_names = ['{}_{}'.format(initial, i+1) for i in range(num_clients)]\n",
    "\n",
    "    #randomize the data\n",
    "    data = list(zip(image_list, label_list))\n",
    "    random.shuffle(data)\n",
    "\n",
    "    #shard data and place at each client\n",
    "    size = len(data)//num_clients\n",
    "    shards = [data[i:i + size] for i in range(0, size*num_clients, size)]\n",
    "\n",
    "    #number of clients must equal number of shards\n",
    "    assert(len(shards) == len(client_names))\n",
    "\n",
    "    return {client_names[i] : shards[i] for i in range(len(client_names))} "
   ]
  },
  {
   "cell_type": "code",
   "execution_count": 8,
   "id": "5cf0b827",
   "metadata": {},
   "outputs": [],
   "source": [
    "#create clients\n",
    "clients = create_clients(X_train, y_train, num_clients=10, initial='client')"
   ]
  },
  {
   "cell_type": "markdown",
   "id": "7398ef6d",
   "metadata": {},
   "source": [
    "# 클라이언트 및 테스트 데이터 처리 및 일괄 처리"
   ]
  },
  {
   "cell_type": "code",
   "execution_count": 9,
   "id": "ca553af0",
   "metadata": {},
   "outputs": [],
   "source": [
    "def batch_data(data_shard, bs=32):\n",
    "    '''Takes in a clients data shard and create a tfds object off it\n",
    "    args:\n",
    "        shard: a data, label constituting a client's data shard\n",
    "        bs:batch size\n",
    "    return:\n",
    "        tfds object'''\n",
    "    #seperate shard into data and labels lists\n",
    "    data, label = zip(*data_shard)\n",
    "    dataset = tf.data.Dataset.from_tensor_slices((list(data), list(label)))\n",
    "    return dataset.shuffle(len(label)).batch(bs)"
   ]
  },
  {
   "cell_type": "code",
   "execution_count": 10,
   "id": "dd942cde",
   "metadata": {},
   "outputs": [
    {
     "name": "stdout",
     "output_type": "stream",
     "text": [
      "50000\n",
      "10000\n",
      "50000\n",
      "10000\n"
     ]
    }
   ],
   "source": [
    "print(len(X_train))\n",
    "print(len(X_test))\n",
    "print(len(y_train))\n",
    "print(len(y_test))"
   ]
  },
  {
   "cell_type": "code",
   "execution_count": 11,
   "id": "037cf41c",
   "metadata": {},
   "outputs": [
    {
     "name": "stderr",
     "output_type": "stream",
     "text": [
      "2022-04-15 01:56:25.758070: I tensorflow/stream_executor/cuda/cuda_gpu_executor.cc:936] successful NUMA node read from SysFS had negative value (-1), but there must be at least one NUMA node, so returning NUMA node zero\n",
      "2022-04-15 01:56:25.758481: I tensorflow/stream_executor/cuda/cuda_gpu_executor.cc:936] successful NUMA node read from SysFS had negative value (-1), but there must be at least one NUMA node, so returning NUMA node zero\n",
      "2022-04-15 01:56:25.758870: I tensorflow/stream_executor/cuda/cuda_gpu_executor.cc:936] successful NUMA node read from SysFS had negative value (-1), but there must be at least one NUMA node, so returning NUMA node zero\n",
      "2022-04-15 01:56:25.759296: W tensorflow/stream_executor/platform/default/dso_loader.cc:64] Could not load dynamic library 'libcublas.so.11'; dlerror: libcublas.so.11: cannot open shared object file: No such file or directory; LD_LIBRARY_PATH: /home/user/miniconda/lib/python3.9/site-packages/cv2/../../lib64:/usr/local/nvidia/lib:/usr/local/nvidia/lib64\n",
      "2022-04-15 01:56:25.759332: W tensorflow/stream_executor/platform/default/dso_loader.cc:64] Could not load dynamic library 'libcublasLt.so.11'; dlerror: libcublasLt.so.11: cannot open shared object file: No such file or directory; LD_LIBRARY_PATH: /home/user/miniconda/lib/python3.9/site-packages/cv2/../../lib64:/usr/local/nvidia/lib:/usr/local/nvidia/lib64\n",
      "2022-04-15 01:56:25.759364: W tensorflow/stream_executor/platform/default/dso_loader.cc:64] Could not load dynamic library 'libcufft.so.10'; dlerror: libcufft.so.10: cannot open shared object file: No such file or directory; LD_LIBRARY_PATH: /home/user/miniconda/lib/python3.9/site-packages/cv2/../../lib64:/usr/local/nvidia/lib:/usr/local/nvidia/lib64\n",
      "2022-04-15 01:56:25.759396: W tensorflow/stream_executor/platform/default/dso_loader.cc:64] Could not load dynamic library 'libcurand.so.10'; dlerror: libcurand.so.10: cannot open shared object file: No such file or directory; LD_LIBRARY_PATH: /home/user/miniconda/lib/python3.9/site-packages/cv2/../../lib64:/usr/local/nvidia/lib:/usr/local/nvidia/lib64\n",
      "2022-04-15 01:56:25.759426: W tensorflow/stream_executor/platform/default/dso_loader.cc:64] Could not load dynamic library 'libcusolver.so.11'; dlerror: libcusolver.so.11: cannot open shared object file: No such file or directory; LD_LIBRARY_PATH: /home/user/miniconda/lib/python3.9/site-packages/cv2/../../lib64:/usr/local/nvidia/lib:/usr/local/nvidia/lib64\n",
      "2022-04-15 01:56:25.759457: W tensorflow/stream_executor/platform/default/dso_loader.cc:64] Could not load dynamic library 'libcusparse.so.11'; dlerror: libcusparse.so.11: cannot open shared object file: No such file or directory; LD_LIBRARY_PATH: /home/user/miniconda/lib/python3.9/site-packages/cv2/../../lib64:/usr/local/nvidia/lib:/usr/local/nvidia/lib64\n",
      "2022-04-15 01:56:25.759489: W tensorflow/stream_executor/platform/default/dso_loader.cc:64] Could not load dynamic library 'libcudnn.so.8'; dlerror: libcudnn.so.8: cannot open shared object file: No such file or directory; LD_LIBRARY_PATH: /home/user/miniconda/lib/python3.9/site-packages/cv2/../../lib64:/usr/local/nvidia/lib:/usr/local/nvidia/lib64\n",
      "2022-04-15 01:56:25.759496: W tensorflow/core/common_runtime/gpu/gpu_device.cc:1850] Cannot dlopen some GPU libraries. Please make sure the missing libraries mentioned above are installed properly if you would like to use GPU. Follow the guide at https://www.tensorflow.org/install/gpu for how to download and setup the required libraries for your platform.\n",
      "Skipping registering GPU devices...\n",
      "2022-04-15 01:56:25.759722: I tensorflow/core/platform/cpu_feature_guard.cc:151] This TensorFlow binary is optimized with oneAPI Deep Neural Network Library (oneDNN) to use the following CPU instructions in performance-critical operations:  AVX2 FMA\n",
      "To enable them in other operations, rebuild TensorFlow with the appropriate compiler flags.\n"
     ]
    }
   ],
   "source": [
    "#process and batch the training data for each client\n",
    "clients_batched = dict()\n",
    "for (client_name, data) in clients.items():\n",
    "    clients_batched[client_name] = batch_data(data)\n",
    "\n",
    "#process and batch the test set  \n",
    "test_batched = tf.data.Dataset.from_tensor_slices((X_test, y_test)).batch(len(y_test))"
   ]
  },
  {
   "cell_type": "markdown",
   "id": "6f0c9c6b",
   "metadata": {},
   "source": [
    "#  (Multi Layer Perceptron) 모델 생성"
   ]
  },
  {
   "cell_type": "code",
   "execution_count": 12,
   "id": "258d36d2",
   "metadata": {},
   "outputs": [],
   "source": [
    "class SimpleMLP:\n",
    "    @staticmethod\n",
    "    def build():\n",
    "        model = tf.keras.models.Sequential()\n",
    "        model.add(tf.keras.layers.Conv2D(32, kernel_size=(3, 3), activation='relu', kernel_initializer='he_uniform', input_shape=(32,32,3)))\n",
    "        model.add(tf.keras.layers.BatchNormalization())\n",
    "        model.add(tf.keras.layers.Conv2D(32, kernel_size=(3, 3), kernel_initializer='he_uniform', activation='relu'))\n",
    "        model.add(tf.keras.layers.BatchNormalization())\n",
    "        model.add(tf.keras.layers.MaxPooling2D(pool_size=(2, 2)))\n",
    "        model.add(tf.keras.layers.Dropout(0.25))\n",
    "        model.add(tf.keras.layers.Conv2D(64, kernel_size=(3, 3), kernel_initializer='he_uniform', activation='relu'))\n",
    "        model.add(tf.keras.layers.BatchNormalization())\n",
    "        model.add(tf.keras.layers.Conv2D(64, kernel_size=(3, 3), kernel_initializer='he_uniform', activation='relu'))\n",
    "        model.add(tf.keras.layers.BatchNormalization())\n",
    "        model.add(tf.keras.layers.MaxPooling2D(pool_size=(2, 2)))\n",
    "        model.add(tf.keras.layers.Dropout(0.25))\n",
    "        model.add(tf.keras.layers.Flatten())\n",
    "        model.add(tf.keras.layers.Dense(512, activation='relu'))\n",
    "        model.add(tf.keras.layers.Dropout(0.5))\n",
    "        model.add(tf.keras.layers.Dense(100, activation='softmax'))\n",
    "        return model"
   ]
  },
  {
   "cell_type": "code",
   "execution_count": 13,
   "id": "cc4cf3f8",
   "metadata": {},
   "outputs": [
    {
     "name": "stderr",
     "output_type": "stream",
     "text": [
      "/home/user/miniconda/lib/python3.9/site-packages/keras/optimizer_v2/gradient_descent.py:102: UserWarning: The `lr` argument is deprecated, use `learning_rate` instead.\n",
      "  super(SGD, self).__init__(name, **kwargs)\n"
     ]
    }
   ],
   "source": [
    "lr = 0.01 \n",
    "comms_round = 100\n",
    "loss='sparse_categorical_crossentropy'\n",
    "metrics = ['accuracy']\n",
    "optimizer = SGD(lr=lr, \n",
    "                decay=lr / comms_round, \n",
    "                momentum=0.9\n",
    "               )"
   ]
  },
  {
   "cell_type": "markdown",
   "id": "fb8b54e0",
   "metadata": {},
   "source": [
    "# 모델 집계 (연동 평균)"
   ]
  },
  {
   "cell_type": "code",
   "execution_count": 14,
   "id": "0cc981a9",
   "metadata": {},
   "outputs": [],
   "source": [
    "# 클라이언트 데이터의 스케일링 계수 \n",
    "def weight_scalling_factor(clients_trn_data, client_name):\n",
    "    client_names = list(clients_trn_data.keys())\n",
    "    #get the bs\n",
    "    bs = list(clients_trn_data[client_name])[0][0].shape[0]\n",
    "    #first calculate the total training data points across clinets\n",
    "    global_count = sum([tf.data.experimental.cardinality(clients_trn_data[client_name]).numpy() for client_name in client_names])*bs\n",
    "    # get the total number of data points held by a client\n",
    "    local_count = tf.data.experimental.cardinality(clients_trn_data[client_name]).numpy()*bs\n",
    "#     print(\"local_count: \", local_count)\n",
    "#     print(\"global_count: \", global_count)\n",
    "    return local_count/global_count\n",
    "\n",
    "# 위에서 구한 스케일링 계수를 이용해 스케일된 weight 구하기\n",
    "def scale_model_weights(weight, scalar):\n",
    "    '''function for scaling a models weights'''\n",
    "    weight_final = []\n",
    "    steps = len(weight)\n",
    "    for i in range(steps):\n",
    "        weight_final.append(scalar * weight[i])\n",
    "    return weight_final\n",
    "\n",
    "\n",
    "# \n",
    "def sum_scaled_weights(scaled_weight_list):\n",
    "    '''Return the sum of the listed scaled weights. The is equivalent to scaled avg of the weights'''\n",
    "    avg_grad = list()\n",
    "    #get the average grad accross all client gradients\n",
    "    for grad_list_tuple in zip(*scaled_weight_list):\n",
    "        layer_mean = tf.math.reduce_sum(grad_list_tuple, axis=0)\n",
    "        avg_grad.append(layer_mean)\n",
    "        \n",
    "    return avg_grad\n",
    "\n",
    "\n",
    "def test_model(X_test, Y_test,  model, comm_round):\n",
    "    cce = tf.keras.losses.SparseCategoricalCrossentropy(from_logits=True)\n",
    "    #logits = model.predict(X_test, batch_size=100)\n",
    "    logits = model.predict(X_test)\n",
    "    loss = cce(Y_test, logits)\n",
    "    acc = accuracy_score(tf.argmax(logits, axis=1), tf.argmax(Y_test, axis=1))\n",
    "    print('comm_round: {} | global_acc: {:.3%} | global_loss: {}'.format(comm_round, acc, loss))\n",
    "    return acc, loss"
   ]
  },
  {
   "cell_type": "markdown",
   "id": "4c6b28ec",
   "metadata": {},
   "source": [
    "# 연합 모델 교육"
   ]
  },
  {
   "cell_type": "code",
   "execution_count": 15,
   "id": "97c83cd9",
   "metadata": {
    "scrolled": true
   },
   "outputs": [
    {
     "name": "stdout",
     "output_type": "stream",
     "text": [
      "comm_round: 0 | global_acc: 0.1174% | global_loss: 3.1284\n",
      "comm_round: 1 | global_acc: 0.3024% | global_loss: 1.9795\n",
      "comm_round: 2 | global_acc: 0.463% | global_loss: 1.5322\n",
      "comm_round: 3 | global_acc: 0.5363% | global_loss: 1.3218\n",
      "comm_round: 4 | global_acc: 0.4842% | global_loss: 1.4937\n",
      "comm_round: 5 | global_acc: 0.4347% | global_loss: 1.7468\n",
      "comm_round: 6 | global_acc: 0.5157% | global_loss: 1.474\n",
      "comm_round: 7 | global_acc: 0.5647% | global_loss: 1.2387\n",
      "comm_round: 8 | global_acc: 0.6104% | global_loss: 1.1093\n",
      "comm_round: 9 | global_acc: 0.6521% | global_loss: 0.9928\n",
      "comm_round: 10 | global_acc: 0.6365% | global_loss: 1.0423\n",
      "comm_round: 11 | global_acc: 0.6753% | global_loss: 0.9265\n",
      "comm_round: 12 | global_acc: 0.6779% | global_loss: 0.9206\n",
      "comm_round: 13 | global_acc: 0.7024% | global_loss: 0.8402\n",
      "comm_round: 14 | global_acc: 0.7079% | global_loss: 0.8323\n",
      "comm_round: 15 | global_acc: 0.7131% | global_loss: 0.8106\n",
      "comm_round: 16 | global_acc: 0.7258% | global_loss: 0.7805\n",
      "comm_round: 17 | global_acc: 0.7301% | global_loss: 0.7698\n",
      "comm_round: 18 | global_acc: 0.7324% | global_loss: 0.7584\n",
      "comm_round: 19 | global_acc: 0.7362% | global_loss: 0.7475\n",
      "comm_round: 20 | global_acc: 0.7281% | global_loss: 0.7738\n",
      "comm_round: 21 | global_acc: 0.744% | global_loss: 0.7229\n",
      "comm_round: 22 | global_acc: 0.7444% | global_loss: 0.7265\n",
      "comm_round: 23 | global_acc: 0.745% | global_loss: 0.7297\n",
      "comm_round: 24 | global_acc: 0.7515% | global_loss: 0.7128\n",
      "comm_round: 25 | global_acc: 0.7513% | global_loss: 0.7074\n",
      "comm_round: 26 | global_acc: 0.7611% | global_loss: 0.6796\n",
      "comm_round: 27 | global_acc: 0.7627% | global_loss: 0.6932\n",
      "comm_round: 28 | global_acc: 0.7624% | global_loss: 0.685\n",
      "comm_round: 29 | global_acc: 0.7694% | global_loss: 0.6607\n",
      "comm_round: 30 | global_acc: 0.772% | global_loss: 0.6606\n",
      "comm_round: 31 | global_acc: 0.7625% | global_loss: 0.6773\n",
      "comm_round: 32 | global_acc: 0.7734% | global_loss: 0.6514\n",
      "comm_round: 33 | global_acc: 0.7759% | global_loss: 0.6505\n",
      "comm_round: 34 | global_acc: 0.7773% | global_loss: 0.64\n",
      "comm_round: 35 | global_acc: 0.7801% | global_loss: 0.6335\n",
      "comm_round: 36 | global_acc: 0.7838% | global_loss: 0.6266\n",
      "comm_round: 37 | global_acc: 0.7832% | global_loss: 0.628\n",
      "comm_round: 38 | global_acc: 0.7849% | global_loss: 0.6266\n",
      "comm_round: 39 | global_acc: 0.7779% | global_loss: 0.6536\n",
      "comm_round: 40 | global_acc: 0.788% | global_loss: 0.6112\n",
      "comm_round: 41 | global_acc: 0.7811% | global_loss: 0.6325\n",
      "comm_round: 42 | global_acc: 0.7876% | global_loss: 0.6174\n",
      "comm_round: 43 | global_acc: 0.7941% | global_loss: 0.6011\n",
      "comm_round: 44 | global_acc: 0.7901% | global_loss: 0.6095\n",
      "comm_round: 45 | global_acc: 0.796% | global_loss: 0.5942\n",
      "comm_round: 46 | global_acc: 0.7946% | global_loss: 0.6011\n",
      "comm_round: 47 | global_acc: 0.7939% | global_loss: 0.6045\n",
      "comm_round: 48 | global_acc: 0.7991% | global_loss: 0.5921\n",
      "comm_round: 49 | global_acc: 0.792% | global_loss: 0.6043\n",
      "comm_round: 50 | global_acc: 0.7991% | global_loss: 0.5817\n",
      "comm_round: 51 | global_acc: 0.7944% | global_loss: 0.5984\n",
      "comm_round: 52 | global_acc: 0.799% | global_loss: 0.584\n",
      "comm_round: 53 | global_acc: 0.7972% | global_loss: 0.5942\n",
      "comm_round: 54 | global_acc: 0.8038% | global_loss: 0.5757\n",
      "comm_round: 55 | global_acc: 0.7947% | global_loss: 0.6006\n",
      "comm_round: 56 | global_acc: 0.8058% | global_loss: 0.5717\n",
      "comm_round: 57 | global_acc: 0.8027% | global_loss: 0.5826\n",
      "comm_round: 58 | global_acc: 0.8042% | global_loss: 0.5723\n",
      "comm_round: 59 | global_acc: 0.8036% | global_loss: 0.5705\n",
      "comm_round: 60 | global_acc: 0.7991% | global_loss: 0.5885\n",
      "comm_round: 61 | global_acc: 0.8088% | global_loss: 0.5657\n",
      "comm_round: 62 | global_acc: 0.807% | global_loss: 0.5582\n",
      "comm_round: 63 | global_acc: 0.8066% | global_loss: 0.5686\n",
      "comm_round: 64 | global_acc: 0.8085% | global_loss: 0.5579\n",
      "comm_round: 65 | global_acc: 0.8046% | global_loss: 0.5746\n",
      "comm_round: 66 | global_acc: 0.8103% | global_loss: 0.557\n",
      "comm_round: 67 | global_acc: 0.8077% | global_loss: 0.5636\n",
      "comm_round: 68 | global_acc: 0.8113% | global_loss: 0.552\n",
      "comm_round: 69 | global_acc: 0.8084% | global_loss: 0.5573\n",
      "comm_round: 70 | global_acc: 0.8115% | global_loss: 0.5491\n",
      "comm_round: 71 | global_acc: 0.8111% | global_loss: 0.5564\n",
      "comm_round: 72 | global_acc: 0.8118% | global_loss: 0.5469\n",
      "comm_round: 73 | global_acc: 0.8111% | global_loss: 0.5543\n",
      "comm_round: 74 | global_acc: 0.8107% | global_loss: 0.5575\n",
      "comm_round: 75 | global_acc: 0.8138% | global_loss: 0.551\n",
      "comm_round: 76 | global_acc: 0.8098% | global_loss: 0.5616\n",
      "comm_round: 77 | global_acc: 0.8153% | global_loss: 0.5501\n",
      "comm_round: 78 | global_acc: 0.8148% | global_loss: 0.544\n",
      "comm_round: 79 | global_acc: 0.8152% | global_loss: 0.5454\n",
      "comm_round: 80 | global_acc: 0.8151% | global_loss: 0.5488\n",
      "comm_round: 81 | global_acc: 0.8146% | global_loss: 0.5473\n",
      "comm_round: 82 | global_acc: 0.816% | global_loss: 0.5431\n",
      "comm_round: 83 | global_acc: 0.8161% | global_loss: 0.5431\n",
      "comm_round: 84 | global_acc: 0.8181% | global_loss: 0.5489\n",
      "comm_round: 85 | global_acc: 0.8144% | global_loss: 0.5595\n",
      "comm_round: 86 | global_acc: 0.8176% | global_loss: 0.5469\n",
      "comm_round: 87 | global_acc: 0.8173% | global_loss: 0.5418\n",
      "comm_round: 88 | global_acc: 0.8156% | global_loss: 0.5474\n",
      "comm_round: 89 | global_acc: 0.8163% | global_loss: 0.5536\n",
      "comm_round: 90 | global_acc: 0.8178% | global_loss: 0.5464\n",
      "comm_round: 91 | global_acc: 0.8182% | global_loss: 0.5424\n",
      "comm_round: 92 | global_acc: 0.8203% | global_loss: 0.5464\n",
      "comm_round: 93 | global_acc: 0.819% | global_loss: 0.543\n",
      "comm_round: 94 | global_acc: 0.8181% | global_loss: 0.5512\n",
      "comm_round: 95 | global_acc: 0.8188% | global_loss: 0.5447\n",
      "comm_round: 96 | global_acc: 0.8174% | global_loss: 0.5495\n",
      "comm_round: 97 | global_acc: 0.8184% | global_loss: 0.5436\n",
      "comm_round: 98 | global_acc: 0.8187% | global_loss: 0.5441\n",
      "comm_round: 99 | global_acc: 0.8204% | global_loss: 0.5405\n"
     ]
    }
   ],
   "source": [
    "#initialize global model\n",
    "smlp_global = SimpleMLP()\n",
    "global_model = smlp_global.build()\n",
    "opt = tf.keras.optimizers.SGD(learning_rate=0.01, momentum=0.9, decay=1e-6, nesterov=True)\n",
    "global_model.compile(optimizer=opt, loss=\"sparse_categorical_crossentropy\", metrics=[\"accuracy\"])\n",
    "cnt = 0\n",
    "#commence global training loop\n",
    "for comm_round in range(comms_round):\n",
    "            \n",
    "    # get the global model's weights - will serve as the initial weights for all local models\n",
    "    global_weights = global_model.get_weights()\n",
    "    \n",
    "    #initial list to collect local model weights after scalling\n",
    "    scaled_local_weight_list = list()\n",
    "\n",
    "    #randomize client data - using keys\n",
    "    client_names= list(clients_batched.keys())\n",
    "    random.shuffle(client_names)\n",
    "    \n",
    "    \n",
    "    #loop through each client and create new local model\n",
    "    for client in client_names:\n",
    "        smlp_local = SimpleMLP()\n",
    "        local_model = smlp_local.build()\n",
    "        local_model.compile(optimizer=opt, loss=\"sparse_categorical_crossentropy\", metrics=[\"accuracy\"])\n",
    "        \n",
    "        #set local model weight to the weight of the global model\n",
    "        local_model.set_weights(global_weights)\n",
    "        \n",
    "        #fit local model with client's data\n",
    "        local_model.fit(clients_batched[client], epochs=1, verbose=0)\n",
    "        \n",
    "        #scale the model weights and add to list\n",
    "        scaling_factor = weight_scalling_factor(clients_batched, client)\n",
    "        scaled_weights = scale_model_weights(local_model.get_weights(), scaling_factor)\n",
    "        scaled_local_weight_list.append(scaled_weights)\n",
    "        \n",
    "        #clear session to free memory after each communication round\n",
    "        K.clear_session()\n",
    "        \n",
    "    #to get the average over all the local model, we simply take the sum of the scaled weights\n",
    "    average_weights = sum_scaled_weights(scaled_local_weight_list)\n",
    "    \n",
    "    #update global model \n",
    "    global_model.set_weights(average_weights)\n",
    "\n",
    "    #test global model and print out metrics after each communications round\n",
    "#     for(X_test, Y_test) in test_batched:\n",
    "#         global_acc, global_loss = test_model(X_test, Y_test, global_model, comm_round)\n",
    "    score = global_model.evaluate(X_test, y_test, verbose=0)\n",
    "    print(f'comm_round: {cnt} | global_acc: {round(score[1], 4)}% | global_loss: {round(score[0], 4)}')\n",
    "    cnt += 1"
   ]
  },
  {
   "cell_type": "code",
   "execution_count": null,
   "id": "39d85293",
   "metadata": {},
   "outputs": [],
   "source": []
  }
 ],
 "metadata": {
  "kernelspec": {
   "display_name": "Python 3 (ipykernel)",
   "language": "python",
   "name": "python3"
  },
  "language_info": {
   "codemirror_mode": {
    "name": "ipython",
    "version": 3
   },
   "file_extension": ".py",
   "mimetype": "text/x-python",
   "name": "python",
   "nbconvert_exporter": "python",
   "pygments_lexer": "ipython3",
   "version": "3.8.10"
  }
 },
 "nbformat": 4,
 "nbformat_minor": 5
}
